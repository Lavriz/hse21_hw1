{
 "cells": [
  {
   "cell_type": "code",
   "execution_count": 2,
   "metadata": {},
   "outputs": [],
   "source": [
    "from Bio import SeqIO\n",
    "import re\n",
    "from collections import Counter"
   ]
  },
  {
   "cell_type": "code",
   "execution_count": 49,
   "metadata": {},
   "outputs": [],
   "source": [
    "def stats(file):\n",
    "    num_contig = 0 \n",
    "    contig_li = []\n",
    "    pattern = 'len[0-9]+'\n",
    "    pattern_2 = '[0-9]+'\n",
    "    with open(file) as file:\n",
    "        for record in SeqIO.parse(file, \"fasta\"):\n",
    "            num_contig += 1 # the number of contigs\n",
    "            contig_li.append(record.id)\n",
    "    contig_li2 = []\n",
    "    for con in contig_li:\n",
    "        result = re.findall(pattern, con)\n",
    "        if result:\n",
    "            contig_li2.append(result)\n",
    "    li_3 = []\n",
    "    for i in contig_li2:\n",
    "        for x in i:\n",
    "            result = re.findall(pattern_2, x)\n",
    "        if result:\n",
    "            li_3.append(result)\n",
    "    sum1 = []\n",
    "    for i in li_3:\n",
    "        for x in i:\n",
    "            sum1.append(x)\n",
    "    sum2 = [int(i) for i in sum1]\n",
    "    all_sum = sum(sum2) # the sum of all contigs\n",
    "    max_sum = max(sum2) # the longest contig\n",
    "    tmp = [] # N50\n",
    "    for tmp_number in set(sum2):\n",
    "            tmp += [tmp_number] * sum2.count(tmp_number) * tmp_number\n",
    "    tmp.sort()\n",
    "    if (len(tmp) % 2) == 0:\n",
    "        median = (tmp[int(len(tmp) / 2) - 1] + tmp[int(len(tmp) / 2)]) / 2\n",
    "    else:\n",
    "        median = tmp[int(len(tmp) / 2)]\n",
    "    print('The number of contigs: {}\\nThe sum of all contigs: {}\\nThe longest contig: {}\\nN50: {}'.format(num_contig, all_sum, max_sum, median))"
   ]
  },
  {
   "cell_type": "code",
   "execution_count": 50,
   "metadata": {},
   "outputs": [
    {
     "name": "stdout",
     "output_type": "stream",
     "text": [
      "The number of contigs: 613\n",
      "The sum of all contigs: 3925691\n",
      "The longest contig: 179307\n",
      "N50: 52799\n"
     ]
    }
   ],
   "source": [
    "stats('data/Poil_contig.fa')"
   ]
  },
  {
   "cell_type": "code",
   "execution_count": 56,
   "metadata": {},
   "outputs": [
    {
     "name": "stdout",
     "output_type": "stream",
     "text": [
      "The number of contigs: 69\n",
      "The sum of all contigs: 3872943\n",
      "The longest contig: 3833646\n",
      "N50: 3833646\n"
     ]
    }
   ],
   "source": [
    "stats('data/Poil_scaffold.fa')"
   ]
  },
  {
   "cell_type": "code",
   "execution_count": 53,
   "metadata": {},
   "outputs": [],
   "source": [
    "def func_N(file):\n",
    "    n_li = []\n",
    "    pattern_n = 'N+'\n",
    "    with open(file) as f:\n",
    "        for record in SeqIO.parse(f, \"fasta\"):\n",
    "            n_li.append(record.seq)\n",
    "    finding = re.findall(pattern_n, str(n_li[0]))\n",
    "    num_N = len(finding)\n",
    "    finding_li = ''.join(finding)\n",
    "    counter = Counter(finding_li)\n",
    "    N_count = counter['N']\n",
    "    print('The number of N: {}\\nThe length of Ns: {}'.format(num_N, N_count))"
   ]
  },
  {
   "cell_type": "code",
   "execution_count": 54,
   "metadata": {},
   "outputs": [
    {
     "name": "stdout",
     "output_type": "stream",
     "text": [
      "The number of N: 57\n",
      "The length of Ns: 5578\n"
     ]
    }
   ],
   "source": [
    "func_N('data/Poil_scaffold.fa')"
   ]
  },
  {
   "cell_type": "code",
   "execution_count": 15,
   "metadata": {},
   "outputs": [
    {
     "name": "stdout",
     "output_type": "stream",
     "text": [
      "scaffold1_cov232\n",
      "3880004\n"
     ]
    }
   ],
   "source": [
    "# check if the first one is the longest one\n",
    "max_len = 0\n",
    "max_description = \"\"\n",
    "\n",
    "for record in SeqIO.parse('data/Poil_gapClosed.fa', \"fasta\"):\n",
    "    if len(record) > max_len:\n",
    "        max_len = len(record)\n",
    "        max_description = record.description\n",
    "\n",
    "print(max_description)\n",
    "print(max_len)"
   ]
  },
  {
   "cell_type": "code",
   "execution_count": 55,
   "metadata": {},
   "outputs": [
    {
     "name": "stdout",
     "output_type": "stream",
     "text": [
      "The number of N: 9\n",
      "The length of Ns: 1589\n"
     ]
    }
   ],
   "source": [
    "func_N('data/Poil_gapClosed.fa')"
   ]
  }
 ],
 "metadata": {
  "kernelspec": {
   "display_name": "Python 3",
   "language": "python",
   "name": "python3"
  },
  "language_info": {
   "codemirror_mode": {
    "name": "ipython",
    "version": 3
   },
   "file_extension": ".py",
   "mimetype": "text/x-python",
   "name": "python",
   "nbconvert_exporter": "python",
   "pygments_lexer": "ipython3",
   "version": "3.8.2"
  }
 },
 "nbformat": 4,
 "nbformat_minor": 4
}
