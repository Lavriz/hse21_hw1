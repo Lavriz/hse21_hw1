{
 "cells": [
  {
   "cell_type": "code",
   "execution_count": 2,
   "metadata": {},
   "outputs": [],
   "source": [
    "from Bio import SeqIO\n",
    "import re\n",
    "from collections import Counter"
   ]
  },
  {
   "cell_type": "code",
   "execution_count": 3,
   "metadata": {},
   "outputs": [],
   "source": [
    "def stats(file):\n",
    "    num_contig = 0 \n",
    "    contig_li = []\n",
    "    pattern = 'len[0-9]+'\n",
    "    pattern_2 = '[0-9]+'\n",
    "    with open(file) as file:\n",
    "        for record in SeqIO.parse(file, \"fasta\"):\n",
    "            num_contig += 1 # the number of contigs\n",
    "            contig_li.append(record.id)\n",
    "    contig_li2 = []\n",
    "    for con in contig_li:\n",
    "        result = re.findall(pattern, con)\n",
    "        if result:\n",
    "            contig_li2.append(result)\n",
    "    li_3 = []\n",
    "    for i in contig_li2:\n",
    "        for x in i:\n",
    "            result = re.findall(pattern_2, x)\n",
    "        if result:\n",
    "            li_3.append(result)\n",
    "    sum1 = []\n",
    "    for i in li_3:\n",
    "        for x in i:\n",
    "            sum1.append(x)\n",
    "    sum2 = [int(i) for i in sum1]\n",
    "    all_sum = sum(sum2) # the sum of all contigs\n",
    "    max_sum = max(sum2) # the longest contig\n",
    "    tmp = [] # N50\n",
    "    for tmp_number in set(sum2):\n",
    "            tmp += [tmp_number] * sum2.count(tmp_number) * tmp_number\n",
    "    tmp.sort()\n",
    "    if (len(tmp) % 2) == 0:\n",
    "        median = (tmp[int(len(tmp) / 2) - 1] + tmp[int(len(tmp) / 2)]) / 2\n",
    "    else:\n",
    "        median = tmp[int(len(tmp) / 2)]\n",
    "    return num_contig, all_sum, max_sum, median"
   ]
  },
  {
   "cell_type": "code",
   "execution_count": 4,
   "metadata": {},
   "outputs": [
    {
     "data": {
      "text/plain": [
       "(613, 3925691, 179307, 52799)"
      ]
     },
     "execution_count": 4,
     "metadata": {},
     "output_type": "execute_result"
    }
   ],
   "source": [
    "stats('Poil_contig.fa')"
   ]
  },
  {
   "cell_type": "code",
   "execution_count": 5,
   "metadata": {},
   "outputs": [
    {
     "data": {
      "text/plain": [
       "(69, 3872943, 3833646, 3833646)"
      ]
     },
     "execution_count": 5,
     "metadata": {},
     "output_type": "execute_result"
    }
   ],
   "source": [
    "stats('Poil_scaffold.fa')"
   ]
  },
  {
   "cell_type": "code",
   "execution_count": 19,
   "metadata": {},
   "outputs": [],
   "source": [
    "def func_N(file):\n",
    "    n_li = []\n",
    "    pattern_n = 'N+'\n",
    "    with open(file) as f:\n",
    "        for record in SeqIO.parse(f, \"fasta\"):\n",
    "            n_li.append(record.seq)\n",
    "    finding = re.findall(pattern_n, str(n_li[0]))\n",
    "    num_N = len(finding)\n",
    "    finding_li = ''.join(finding)\n",
    "    counter = Counter(finding_li)\n",
    "    N_count = counter['N']\n",
    "    return num_N, N_count"
   ]
  },
  {
   "cell_type": "code",
   "execution_count": 20,
   "metadata": {},
   "outputs": [
    {
     "data": {
      "text/plain": [
       "(57, 5578)"
      ]
     },
     "execution_count": 20,
     "metadata": {},
     "output_type": "execute_result"
    }
   ],
   "source": [
    "func_N('Poil_scaffold.fa')"
   ]
  },
  {
   "cell_type": "code",
   "execution_count": 21,
   "metadata": {},
   "outputs": [
    {
     "data": {
      "text/plain": [
       "(9, 1589)"
      ]
     },
     "execution_count": 21,
     "metadata": {},
     "output_type": "execute_result"
    }
   ],
   "source": [
    "func_N('Poil_gapClosed.fa')"
   ]
  }
 ],
 "metadata": {
  "kernelspec": {
   "display_name": "Python 3",
   "language": "python",
   "name": "python3"
  },
  "language_info": {
   "codemirror_mode": {
    "name": "ipython",
    "version": 3
   },
   "file_extension": ".py",
   "mimetype": "text/x-python",
   "name": "python",
   "nbconvert_exporter": "python",
   "pygments_lexer": "ipython3",
   "version": "3.8.2"
  }
 },
 "nbformat": 4,
 "nbformat_minor": 4
}
